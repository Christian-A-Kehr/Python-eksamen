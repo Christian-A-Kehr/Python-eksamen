{
 "cells": [
  {
   "cell_type": "markdown",
   "metadata": {},
   "source": [
    "## Eksamen 2021\n",
    "formål/forløb: \n",
    "- webscrap bilhandel.dk\n",
    "- skriv indhold til csv fil\n",
    "- brug csv fil til at oprette et pandas df\n",
    "- res data i df\n",
    "- brug df til at udføre clustering\n",
    "- brug df fil til at udføre classification / DecisionTree"
   ]
  },
  {
   "cell_type": "code",
   "execution_count": 1,
   "metadata": {},
   "outputs": [],
   "source": [
    "            # Imports used in Eksamen_car\n",
    "# Webscraping\n",
    "from modules import web_scraping as webc # gets data fra bilhandler.dk\n",
    "from modules import CSV_car # writes a list of dictionaris to csv fil\n",
    "from modules import custom_data_frame as cus_df\n",
    "\n",
    "# Display tables, graf and plots\n",
    "import pandas as pd # used for Loading and manipulating data (One Hot Encoding)\n",
    "import numpy as np # calculations\n",
    "import matplotlib.pyplot as plt # draw graphs\n",
    "import pprint # sample car \n",
    "import datetime # used when writing csv\n",
    "\n",
    "# Clustering\n",
    "from sklearn import preprocessing \n",
    "from sklearn.cluster import estimate_bandwidth\n",
    "from sklearn.cluster import MeanShift\n",
    "\n",
    "# Classification\n",
    "from sklearn.tree import DecisionTreeClassifier # building Classifications tree\n",
    "from sklearn.tree import plot_tree # draw the tree\n",
    "from sklearn.model_selection import train_test_split # split data (training and testing) \n",
    "from sklearn.model_selection import cross_val_score # for validation\n",
    "from sklearn.metrics import confusion_matrix # create a confusion matrix\n",
    "from sklearn.metrics import plot_confusion_matrix # draw confusion matrix"
   ]
  },
  {
   "cell_type": "code",
   "execution_count": 2,
   "metadata": {
    "scrolled": true
   },
   "outputs": [
    {
     "name": "stdout",
     "output_type": "stream",
     "text": [
      "{'Antal døre': '5',\n",
      " 'Brændstoftype': 'Benzin',\n",
      " 'Gearkasse': 'Manue',\n",
      " 'Hestekræfter': '150',\n",
      " 'Kilometer': 41000,\n",
      " 'Km/l': 18,\n",
      " 'Max. påhæng': '1.300',\n",
      " 'Tophastighed': '210',\n",
      " 'Vægt': '1.265',\n",
      " 'model': 'Alfa Romeo Giulietta 1,4 M-Air 150 Sprin',\n",
      " 'price': '169900',\n",
      " 'Årgang': '2015'}\n"
     ]
    }
   ],
   "source": [
    "# New webscraping will take some time. so a larger is provided in same folder as notebook \n",
    "small_webscrap = 'alfa-romeo'\n",
    "medium_name =  'citroen' #\n",
    "large_webscrap = 'mercedes'\n",
    "car_name =  small_webscrap # change this to get another cartype from web #'fiat'\n",
    "cars = webc.get_all_cars(car_name)\n",
    "#sample\n",
    "pprint.pprint(cars[0])"
   ]
  },
  {
   "cell_type": "code",
   "execution_count": 3,
   "metadata": {},
   "outputs": [],
   "source": [
    "# write to csv\n",
    "#optional (write_cars_to_CSV has defualt file_name = cars.csv)\n",
    "file_name = CSV_car.create_filename(car_name)\n",
    "CSV_car.write_cars_to_CSV(cars, file_name)\n"
   ]
  },
  {
   "cell_type": "code",
   "execution_count": 4,
   "metadata": {},
   "outputs": [
    {
     "data": {
      "text/html": [
       "<div>\n",
       "<style scoped>\n",
       "    .dataframe tbody tr th:only-of-type {\n",
       "        vertical-align: middle;\n",
       "    }\n",
       "\n",
       "    .dataframe tbody tr th {\n",
       "        vertical-align: top;\n",
       "    }\n",
       "\n",
       "    .dataframe thead th {\n",
       "        text-align: right;\n",
       "    }\n",
       "</style>\n",
       "<table border=\"1\" class=\"dataframe\">\n",
       "  <thead>\n",
       "    <tr style=\"text-align: right;\">\n",
       "      <th></th>\n",
       "      <th>model</th>\n",
       "      <th>price</th>\n",
       "      <th>Kilometer</th>\n",
       "      <th>Årgang</th>\n",
       "      <th>Hestekræfter</th>\n",
       "      <th>Km/l</th>\n",
       "      <th>Tophastighed</th>\n",
       "      <th>Brændstoftype</th>\n",
       "      <th>Max. påhæng</th>\n",
       "      <th>Vægt</th>\n",
       "      <th>Gearkasse</th>\n",
       "      <th>Antal døre</th>\n",
       "    </tr>\n",
       "  </thead>\n",
       "  <tbody>\n",
       "    <tr>\n",
       "      <th>0</th>\n",
       "      <td>Alfa Romeo Giulietta 1,4 M-Air 150 Sprin</td>\n",
       "      <td>169900.0</td>\n",
       "      <td>41000</td>\n",
       "      <td>2015</td>\n",
       "      <td>150.0</td>\n",
       "      <td>18.0</td>\n",
       "      <td>210.0</td>\n",
       "      <td>Benzin</td>\n",
       "      <td>1.3</td>\n",
       "      <td>1.265</td>\n",
       "      <td>Manue</td>\n",
       "      <td>5.0</td>\n",
       "    </tr>\n",
       "    <tr>\n",
       "      <th>1</th>\n",
       "      <td>Alfa Romeo MiTo 1,4 M-Air 170 Quadrifoglio Verde</td>\n",
       "      <td>79900.0</td>\n",
       "      <td>120000</td>\n",
       "      <td>2011</td>\n",
       "      <td>170.0</td>\n",
       "      <td>17.0</td>\n",
       "      <td>219.0</td>\n",
       "      <td>Benzin</td>\n",
       "      <td>1.0</td>\n",
       "      <td>1.195</td>\n",
       "      <td>Manue</td>\n",
       "      <td>3.0</td>\n",
       "    </tr>\n",
       "    <tr>\n",
       "      <th>2</th>\n",
       "      <td>Alfa Romeo Giulietta 1,4 TCT Sportiva</td>\n",
       "      <td>118000.0</td>\n",
       "      <td>106500</td>\n",
       "      <td>2013</td>\n",
       "      <td>170.0</td>\n",
       "      <td>NaN</td>\n",
       "      <td>NaN</td>\n",
       "      <td>Benzin</td>\n",
       "      <td>NaN</td>\n",
       "      <td>NaN</td>\n",
       "      <td>Automatis</td>\n",
       "      <td>NaN</td>\n",
       "    </tr>\n",
       "    <tr>\n",
       "      <th>3</th>\n",
       "      <td>Alfa Romeo Giulia 2,9 Quadrifoglio</td>\n",
       "      <td>297000.0</td>\n",
       "      <td>13747</td>\n",
       "      <td>2018</td>\n",
       "      <td>510.0</td>\n",
       "      <td>NaN</td>\n",
       "      <td>NaN</td>\n",
       "      <td>Benzin</td>\n",
       "      <td>NaN</td>\n",
       "      <td>NaN</td>\n",
       "      <td>Automatis</td>\n",
       "      <td>NaN</td>\n",
       "    </tr>\n",
       "    <tr>\n",
       "      <th>4</th>\n",
       "      <td>Alfa Romeo Stelvio 2,2 JTD 190 Sprint au</td>\n",
       "      <td>559900.0</td>\n",
       "      <td>6000</td>\n",
       "      <td>2021</td>\n",
       "      <td>190.0</td>\n",
       "      <td>21.0</td>\n",
       "      <td>210.0</td>\n",
       "      <td>Diese</td>\n",
       "      <td>1.6</td>\n",
       "      <td>1.635</td>\n",
       "      <td>Automatis</td>\n",
       "      <td>5.0</td>\n",
       "    </tr>\n",
       "  </tbody>\n",
       "</table>\n",
       "</div>"
      ],
      "text/plain": [
       "                                              model     price  Kilometer  \\\n",
       "0          Alfa Romeo Giulietta 1,4 M-Air 150 Sprin  169900.0      41000   \n",
       "1  Alfa Romeo MiTo 1,4 M-Air 170 Quadrifoglio Verde   79900.0     120000   \n",
       "2             Alfa Romeo Giulietta 1,4 TCT Sportiva  118000.0     106500   \n",
       "3                Alfa Romeo Giulia 2,9 Quadrifoglio  297000.0      13747   \n",
       "4          Alfa Romeo Stelvio 2,2 JTD 190 Sprint au  559900.0       6000   \n",
       "\n",
       "   Årgang  Hestekræfter  Km/l  Tophastighed Brændstoftype  Max. påhæng   Vægt  \\\n",
       "0    2015         150.0  18.0         210.0        Benzin          1.3  1.265   \n",
       "1    2011         170.0  17.0         219.0        Benzin          1.0  1.195   \n",
       "2    2013         170.0   NaN           NaN        Benzin          NaN    NaN   \n",
       "3    2018         510.0   NaN           NaN        Benzin          NaN    NaN   \n",
       "4    2021         190.0  21.0         210.0         Diese          1.6  1.635   \n",
       "\n",
       "   Gearkasse  Antal døre  \n",
       "0      Manue         5.0  \n",
       "1      Manue         3.0  \n",
       "2  Automatis         NaN  \n",
       "3  Automatis         NaN  \n",
       "4  Automatis         5.0  "
      ]
     },
     "execution_count": 4,
     "metadata": {},
     "output_type": "execute_result"
    }
   ],
   "source": [
    "#file_name_not_web = 'citroen May 31, 2021.csv' \n",
    "df = pd.read_csv(file_name) # , header= None, skiprows = 1\n",
    "df.head()"
   ]
  },
  {
   "cell_type": "code",
   "execution_count": 5,
   "metadata": {},
   "outputs": [
    {
     "data": {
      "text/html": [
       "<div>\n",
       "<style scoped>\n",
       "    .dataframe tbody tr th:only-of-type {\n",
       "        vertical-align: middle;\n",
       "    }\n",
       "\n",
       "    .dataframe tbody tr th {\n",
       "        vertical-align: top;\n",
       "    }\n",
       "\n",
       "    .dataframe thead th {\n",
       "        text-align: right;\n",
       "    }\n",
       "</style>\n",
       "<table border=\"1\" class=\"dataframe\">\n",
       "  <thead>\n",
       "    <tr style=\"text-align: right;\">\n",
       "      <th></th>\n",
       "      <th>price</th>\n",
       "      <th>Kilometer</th>\n",
       "      <th>Hestekræfter</th>\n",
       "      <th>Km/l</th>\n",
       "      <th>Tophastighed</th>\n",
       "      <th>Brændstoftype</th>\n",
       "      <th>Gearkasse</th>\n",
       "    </tr>\n",
       "  </thead>\n",
       "  <tbody>\n",
       "    <tr>\n",
       "      <th>0</th>\n",
       "      <td>169900.0</td>\n",
       "      <td>41000</td>\n",
       "      <td>150.0</td>\n",
       "      <td>18.0</td>\n",
       "      <td>210.0</td>\n",
       "      <td>Benzin</td>\n",
       "      <td>Manue</td>\n",
       "    </tr>\n",
       "    <tr>\n",
       "      <th>1</th>\n",
       "      <td>79900.0</td>\n",
       "      <td>120000</td>\n",
       "      <td>170.0</td>\n",
       "      <td>17.0</td>\n",
       "      <td>219.0</td>\n",
       "      <td>Benzin</td>\n",
       "      <td>Manue</td>\n",
       "    </tr>\n",
       "    <tr>\n",
       "      <th>2</th>\n",
       "      <td>118000.0</td>\n",
       "      <td>106500</td>\n",
       "      <td>170.0</td>\n",
       "      <td>NaN</td>\n",
       "      <td>NaN</td>\n",
       "      <td>Benzin</td>\n",
       "      <td>Automatis</td>\n",
       "    </tr>\n",
       "    <tr>\n",
       "      <th>3</th>\n",
       "      <td>297000.0</td>\n",
       "      <td>13747</td>\n",
       "      <td>510.0</td>\n",
       "      <td>NaN</td>\n",
       "      <td>NaN</td>\n",
       "      <td>Benzin</td>\n",
       "      <td>Automatis</td>\n",
       "    </tr>\n",
       "    <tr>\n",
       "      <th>4</th>\n",
       "      <td>559900.0</td>\n",
       "      <td>6000</td>\n",
       "      <td>190.0</td>\n",
       "      <td>21.0</td>\n",
       "      <td>210.0</td>\n",
       "      <td>Diese</td>\n",
       "      <td>Automatis</td>\n",
       "    </tr>\n",
       "  </tbody>\n",
       "</table>\n",
       "</div>"
      ],
      "text/plain": [
       "      price  Kilometer  Hestekræfter  Km/l  Tophastighed Brændstoftype  \\\n",
       "0  169900.0      41000         150.0  18.0         210.0        Benzin   \n",
       "1   79900.0     120000         170.0  17.0         219.0        Benzin   \n",
       "2  118000.0     106500         170.0   NaN           NaN        Benzin   \n",
       "3  297000.0      13747         510.0   NaN           NaN        Benzin   \n",
       "4  559900.0       6000         190.0  21.0         210.0         Diese   \n",
       "\n",
       "   Gearkasse  \n",
       "0      Manue  \n",
       "1      Manue  \n",
       "2  Automatis  \n",
       "3  Automatis  \n",
       "4  Automatis  "
      ]
     },
     "execution_count": 5,
     "metadata": {},
     "output_type": "execute_result"
    }
   ],
   "source": [
    "# for clustering\n",
    "cluster = df \n",
    "cluster.drop(['model','Årgang','Max. påhæng','Vægt','Antal døre'],'columns',inplace=True)\n",
    "cluster.head()"
   ]
  },
  {
   "cell_type": "code",
   "execution_count": 6,
   "metadata": {},
   "outputs": [
    {
     "name": "stdout",
     "output_type": "stream",
     "text": [
      "rows before drop n/a 115\n",
      "rows after 80\n"
     ]
    }
   ],
   "source": [
    "# Find missing values in the data and drop those rows: \n",
    "print('rows before drop n/a',len(cluster))\n",
    "bool_matrix = cluster.isnull() # dataframe with True and False values for each cell in the data\n",
    "only_null_filter = bool_matrix.any(axis=1) # is there a True value in any column in each row. returns a pandas Series with index matching index of cluster dataframe\n",
    "missing = cluster[only_null_filter] # show all rows that has one or more null values\n",
    "cluster = cluster.dropna()\n",
    "print('rows after',len(cluster))\n",
    "#cluster = clean.row_not_null(cluster)"
   ]
  },
  {
   "cell_type": "code",
   "execution_count": 7,
   "metadata": {},
   "outputs": [
    {
     "name": "stdout",
     "output_type": "stream",
     "text": [
      "original df contains rows: 80\n",
      "if no hybrids og electric cars allowed df: 80\n",
      "['Benzin' 'Diese']\n"
     ]
    }
   ],
   "source": [
    "# change char to digit for processing (sklearn)\n",
    "\n",
    "#print('original df contains rows: '+ (str(len(cluster))))\n",
    "#df_no_missing = cluster.loc[(cluster['Brændstoftype'] != 'other')]\n",
    "#print ('if no hybrids og electric cars allowed df: '+ (str(len(df_no_missing))))\n",
    "#print (df_no_missing['Brændstoftype'].unique())\n",
    "\n",
    "#cluster = df_no_missing\n",
    "#label_enc =preprocessing.LabelEncoder()\n",
    "#cluster['Brændstoftype'] = label_enc.fit_transform(cluster['Brændstoftype'].astype(str))\n",
    "cluster = cus_df.char_digit(cluster) \n",
    "Decission_tree_df = cluster"
   ]
  },
  {
   "cell_type": "code",
   "execution_count": 8,
   "metadata": {},
   "outputs": [
    {
     "data": {
      "text/html": [
       "<div>\n",
       "<style scoped>\n",
       "    .dataframe tbody tr th:only-of-type {\n",
       "        vertical-align: middle;\n",
       "    }\n",
       "\n",
       "    .dataframe tbody tr th {\n",
       "        vertical-align: top;\n",
       "    }\n",
       "\n",
       "    .dataframe thead th {\n",
       "        text-align: right;\n",
       "    }\n",
       "</style>\n",
       "<table border=\"1\" class=\"dataframe\">\n",
       "  <thead>\n",
       "    <tr style=\"text-align: right;\">\n",
       "      <th></th>\n",
       "      <th>price</th>\n",
       "      <th>Kilometer</th>\n",
       "      <th>Hestekræfter</th>\n",
       "      <th>Km/l</th>\n",
       "      <th>Tophastighed</th>\n",
       "      <th>Brændstoftype</th>\n",
       "      <th>Gearkasse_Automatis</th>\n",
       "      <th>Gearkasse_Manue</th>\n",
       "    </tr>\n",
       "  </thead>\n",
       "  <tbody>\n",
       "    <tr>\n",
       "      <th>0</th>\n",
       "      <td>169900.0</td>\n",
       "      <td>41000</td>\n",
       "      <td>150.0</td>\n",
       "      <td>18.0</td>\n",
       "      <td>210.0</td>\n",
       "      <td>0</td>\n",
       "      <td>0</td>\n",
       "      <td>1</td>\n",
       "    </tr>\n",
       "    <tr>\n",
       "      <th>1</th>\n",
       "      <td>79900.0</td>\n",
       "      <td>120000</td>\n",
       "      <td>170.0</td>\n",
       "      <td>17.0</td>\n",
       "      <td>219.0</td>\n",
       "      <td>0</td>\n",
       "      <td>0</td>\n",
       "      <td>1</td>\n",
       "    </tr>\n",
       "    <tr>\n",
       "      <th>4</th>\n",
       "      <td>559900.0</td>\n",
       "      <td>6000</td>\n",
       "      <td>190.0</td>\n",
       "      <td>21.0</td>\n",
       "      <td>210.0</td>\n",
       "      <td>1</td>\n",
       "      <td>1</td>\n",
       "      <td>0</td>\n",
       "    </tr>\n",
       "    <tr>\n",
       "      <th>5</th>\n",
       "      <td>64800.0</td>\n",
       "      <td>233000</td>\n",
       "      <td>165.0</td>\n",
       "      <td>12.0</td>\n",
       "      <td>216.0</td>\n",
       "      <td>0</td>\n",
       "      <td>0</td>\n",
       "      <td>1</td>\n",
       "    </tr>\n",
       "    <tr>\n",
       "      <th>6</th>\n",
       "      <td>119500.0</td>\n",
       "      <td>209000</td>\n",
       "      <td>192.0</td>\n",
       "      <td>9.0</td>\n",
       "      <td>225.0</td>\n",
       "      <td>0</td>\n",
       "      <td>0</td>\n",
       "      <td>1</td>\n",
       "    </tr>\n",
       "  </tbody>\n",
       "</table>\n",
       "</div>"
      ],
      "text/plain": [
       "      price  Kilometer  Hestekræfter  Km/l  Tophastighed  Brændstoftype  \\\n",
       "0  169900.0      41000         150.0  18.0         210.0              0   \n",
       "1   79900.0     120000         170.0  17.0         219.0              0   \n",
       "4  559900.0       6000         190.0  21.0         210.0              1   \n",
       "5   64800.0     233000         165.0  12.0         216.0              0   \n",
       "6  119500.0     209000         192.0   9.0         225.0              0   \n",
       "\n",
       "   Gearkasse_Automatis  Gearkasse_Manue  \n",
       "0                    0                1  \n",
       "1                    0                1  \n",
       "4                    1                0  \n",
       "5                    0                1  \n",
       "6                    0                1  "
      ]
     },
     "execution_count": 8,
     "metadata": {},
     "output_type": "execute_result"
    }
   ],
   "source": [
    "# One-hot encoding of ('Brændstoftype' , 'Gearkasse') with pd.get_dummies\n",
    "cluster = pd.get_dummies(cluster,columns=['Gearkasse'])\n",
    "cluster.head()"
   ]
  },
  {
   "cell_type": "code",
   "execution_count": 9,
   "metadata": {},
   "outputs": [
    {
     "data": {
      "text/plain": [
       "129329"
      ]
     },
     "execution_count": 9,
     "metadata": {},
     "output_type": "execute_result"
    }
   ],
   "source": [
    "#cluster = df_no_missing\n",
    "estimated = int(estimate_bandwidth(cluster)) # (meanShift)\n",
    "estimated\n",
    "#cluster['price'].unique()"
   ]
  },
  {
   "cell_type": "code",
   "execution_count": 10,
   "metadata": {},
   "outputs": [
    {
     "data": {
      "text/plain": [
       "MeanShift(bandwidth=129329, bin_seeding=False, cluster_all=True, max_iter=300,\n",
       "          min_bin_freq=1, n_jobs=None, seeds=None)"
      ]
     },
     "execution_count": 10,
     "metadata": {},
     "output_type": "execute_result"
    }
   ],
   "source": [
    "analyzer = MeanShift(bandwidth=estimated) \n",
    "analyzer.fit(cluster)"
   ]
  },
  {
   "cell_type": "code",
   "execution_count": 11,
   "metadata": {},
   "outputs": [
    {
     "name": "stdout",
     "output_type": "stream",
     "text": [
      "[0 0 1 0 0 0 0 1 1 0 0 0 0 0 1 0 0 1 1 0 1 0 1 0 0 0 1 0 0 0 0 0 0 1 0 0 0\n",
      " 0 0 0 0 0 1 0 0 0 1 1 0 0 1 0 0 0 1 0 0 0 0 0 0 0 1 1 1 0 0 0 1 2 1 0 1 1\n",
      " 0 0 0 1 0 0]\n",
      "\n",
      "\n",
      " [0 1 2]\n"
     ]
    }
   ],
   "source": [
    "labels = analyzer.labels_\n",
    "print(labels)\n",
    "print('\\n\\n',np.unique(labels))"
   ]
  },
  {
   "cell_type": "code",
   "execution_count": 12,
   "metadata": {},
   "outputs": [
    {
     "data": {
      "text/html": [
       "<div>\n",
       "<style scoped>\n",
       "    .dataframe tbody tr th:only-of-type {\n",
       "        vertical-align: middle;\n",
       "    }\n",
       "\n",
       "    .dataframe tbody tr th {\n",
       "        vertical-align: top;\n",
       "    }\n",
       "\n",
       "    .dataframe thead th {\n",
       "        text-align: right;\n",
       "    }\n",
       "</style>\n",
       "<table border=\"1\" class=\"dataframe\">\n",
       "  <thead>\n",
       "    <tr style=\"text-align: right;\">\n",
       "      <th></th>\n",
       "      <th>price</th>\n",
       "      <th>Kilometer</th>\n",
       "      <th>Hestekræfter</th>\n",
       "      <th>Km/l</th>\n",
       "      <th>Tophastighed</th>\n",
       "      <th>Brændstoftype</th>\n",
       "      <th>Gearkasse_Automatis</th>\n",
       "      <th>Gearkasse_Manue</th>\n",
       "      <th>cluster_group</th>\n",
       "    </tr>\n",
       "  </thead>\n",
       "  <tbody>\n",
       "    <tr>\n",
       "      <th>0</th>\n",
       "      <td>169900.0</td>\n",
       "      <td>41000</td>\n",
       "      <td>150.0</td>\n",
       "      <td>18.0</td>\n",
       "      <td>210.0</td>\n",
       "      <td>0</td>\n",
       "      <td>0</td>\n",
       "      <td>1</td>\n",
       "      <td>0.0</td>\n",
       "    </tr>\n",
       "    <tr>\n",
       "      <th>1</th>\n",
       "      <td>79900.0</td>\n",
       "      <td>120000</td>\n",
       "      <td>170.0</td>\n",
       "      <td>17.0</td>\n",
       "      <td>219.0</td>\n",
       "      <td>0</td>\n",
       "      <td>0</td>\n",
       "      <td>1</td>\n",
       "      <td>0.0</td>\n",
       "    </tr>\n",
       "    <tr>\n",
       "      <th>4</th>\n",
       "      <td>559900.0</td>\n",
       "      <td>6000</td>\n",
       "      <td>190.0</td>\n",
       "      <td>21.0</td>\n",
       "      <td>210.0</td>\n",
       "      <td>1</td>\n",
       "      <td>1</td>\n",
       "      <td>0</td>\n",
       "      <td>1.0</td>\n",
       "    </tr>\n",
       "    <tr>\n",
       "      <th>5</th>\n",
       "      <td>64800.0</td>\n",
       "      <td>233000</td>\n",
       "      <td>165.0</td>\n",
       "      <td>12.0</td>\n",
       "      <td>216.0</td>\n",
       "      <td>0</td>\n",
       "      <td>0</td>\n",
       "      <td>1</td>\n",
       "      <td>0.0</td>\n",
       "    </tr>\n",
       "    <tr>\n",
       "      <th>6</th>\n",
       "      <td>119500.0</td>\n",
       "      <td>209000</td>\n",
       "      <td>192.0</td>\n",
       "      <td>9.0</td>\n",
       "      <td>225.0</td>\n",
       "      <td>0</td>\n",
       "      <td>0</td>\n",
       "      <td>1</td>\n",
       "      <td>0.0</td>\n",
       "    </tr>\n",
       "  </tbody>\n",
       "</table>\n",
       "</div>"
      ],
      "text/plain": [
       "      price  Kilometer  Hestekræfter  Km/l  Tophastighed  Brændstoftype  \\\n",
       "0  169900.0      41000         150.0  18.0         210.0              0   \n",
       "1   79900.0     120000         170.0  17.0         219.0              0   \n",
       "4  559900.0       6000         190.0  21.0         210.0              1   \n",
       "5   64800.0     233000         165.0  12.0         216.0              0   \n",
       "6  119500.0     209000         192.0   9.0         225.0              0   \n",
       "\n",
       "   Gearkasse_Automatis  Gearkasse_Manue  cluster_group  \n",
       "0                    0                1            0.0  \n",
       "1                    0                1            0.0  \n",
       "4                    1                0            1.0  \n",
       "5                    0                1            0.0  \n",
       "6                    0                1            0.0  "
      ]
     },
     "execution_count": 12,
     "metadata": {},
     "output_type": "execute_result"
    }
   ],
   "source": [
    "# indixing clusters\n",
    "cluster['cluster_group'] = np.nan\n",
    "data_length=len(cluster)\n",
    "for i in range(data_length): # loop 714 rows\n",
    "    cluster.iloc[i,cluster.columns.get_loc('cluster_group')] = labels[i] #set the cluster label on each row\n",
    "\n",
    "cluster.head()\n",
    "#cluster"
   ]
  },
  {
   "cell_type": "code",
   "execution_count": 13,
   "metadata": {},
   "outputs": [
    {
     "data": {
      "text/html": [
       "<div>\n",
       "<style scoped>\n",
       "    .dataframe tbody tr th:only-of-type {\n",
       "        vertical-align: middle;\n",
       "    }\n",
       "\n",
       "    .dataframe tbody tr th {\n",
       "        vertical-align: top;\n",
       "    }\n",
       "\n",
       "    .dataframe thead th {\n",
       "        text-align: right;\n",
       "    }\n",
       "</style>\n",
       "<table border=\"1\" class=\"dataframe\">\n",
       "  <thead>\n",
       "    <tr style=\"text-align: right;\">\n",
       "      <th></th>\n",
       "      <th>price</th>\n",
       "      <th>Kilometer</th>\n",
       "      <th>Hestekræfter</th>\n",
       "      <th>Km/l</th>\n",
       "      <th>Tophastighed</th>\n",
       "      <th>Brændstoftype</th>\n",
       "      <th>Gearkasse_Automatis</th>\n",
       "      <th>Gearkasse_Manue</th>\n",
       "      <th>cluster_group</th>\n",
       "    </tr>\n",
       "  </thead>\n",
       "  <tbody>\n",
       "    <tr>\n",
       "      <th>count</th>\n",
       "      <td>80.00000</td>\n",
       "      <td>80.000000</td>\n",
       "      <td>80.000000</td>\n",
       "      <td>80.00000</td>\n",
       "      <td>80.000000</td>\n",
       "      <td>80.000000</td>\n",
       "      <td>80.000000</td>\n",
       "      <td>80.000000</td>\n",
       "      <td>80.000000</td>\n",
       "    </tr>\n",
       "    <tr>\n",
       "      <th>mean</th>\n",
       "      <td>208744.60000</td>\n",
       "      <td>104451.562500</td>\n",
       "      <td>176.437500</td>\n",
       "      <td>17.27500</td>\n",
       "      <td>217.550000</td>\n",
       "      <td>0.362500</td>\n",
       "      <td>0.375000</td>\n",
       "      <td>0.625000</td>\n",
       "      <td>0.312500</td>\n",
       "    </tr>\n",
       "    <tr>\n",
       "      <th>std</th>\n",
       "      <td>170398.58582</td>\n",
       "      <td>75291.509257</td>\n",
       "      <td>42.343933</td>\n",
       "      <td>4.62786</td>\n",
       "      <td>16.260459</td>\n",
       "      <td>0.483755</td>\n",
       "      <td>0.487177</td>\n",
       "      <td>0.487177</td>\n",
       "      <td>0.492828</td>\n",
       "    </tr>\n",
       "    <tr>\n",
       "      <th>min</th>\n",
       "      <td>9900.00000</td>\n",
       "      <td>0.000000</td>\n",
       "      <td>85.000000</td>\n",
       "      <td>8.00000</td>\n",
       "      <td>172.000000</td>\n",
       "      <td>0.000000</td>\n",
       "      <td>0.000000</td>\n",
       "      <td>0.000000</td>\n",
       "      <td>0.000000</td>\n",
       "    </tr>\n",
       "    <tr>\n",
       "      <th>25%</th>\n",
       "      <td>79775.00000</td>\n",
       "      <td>36050.000000</td>\n",
       "      <td>153.750000</td>\n",
       "      <td>14.00000</td>\n",
       "      <td>210.000000</td>\n",
       "      <td>0.000000</td>\n",
       "      <td>0.000000</td>\n",
       "      <td>0.000000</td>\n",
       "      <td>0.000000</td>\n",
       "    </tr>\n",
       "    <tr>\n",
       "      <th>50%</th>\n",
       "      <td>162400.00000</td>\n",
       "      <td>95500.000000</td>\n",
       "      <td>170.000000</td>\n",
       "      <td>17.00000</td>\n",
       "      <td>218.000000</td>\n",
       "      <td>0.000000</td>\n",
       "      <td>0.000000</td>\n",
       "      <td>1.000000</td>\n",
       "      <td>0.000000</td>\n",
       "    </tr>\n",
       "    <tr>\n",
       "      <th>75%</th>\n",
       "      <td>307400.00000</td>\n",
       "      <td>162750.000000</td>\n",
       "      <td>200.000000</td>\n",
       "      <td>21.00000</td>\n",
       "      <td>230.000000</td>\n",
       "      <td>1.000000</td>\n",
       "      <td>1.000000</td>\n",
       "      <td>1.000000</td>\n",
       "      <td>1.000000</td>\n",
       "    </tr>\n",
       "    <tr>\n",
       "      <th>max</th>\n",
       "      <td>749795.00000</td>\n",
       "      <td>322000.000000</td>\n",
       "      <td>280.000000</td>\n",
       "      <td>26.00000</td>\n",
       "      <td>257.000000</td>\n",
       "      <td>1.000000</td>\n",
       "      <td>1.000000</td>\n",
       "      <td>1.000000</td>\n",
       "      <td>2.000000</td>\n",
       "    </tr>\n",
       "  </tbody>\n",
       "</table>\n",
       "</div>"
      ],
      "text/plain": [
       "              price      Kilometer  Hestekræfter      Km/l  Tophastighed  \\\n",
       "count      80.00000      80.000000     80.000000  80.00000     80.000000   \n",
       "mean   208744.60000  104451.562500    176.437500  17.27500    217.550000   \n",
       "std    170398.58582   75291.509257     42.343933   4.62786     16.260459   \n",
       "min      9900.00000       0.000000     85.000000   8.00000    172.000000   \n",
       "25%     79775.00000   36050.000000    153.750000  14.00000    210.000000   \n",
       "50%    162400.00000   95500.000000    170.000000  17.00000    218.000000   \n",
       "75%    307400.00000  162750.000000    200.000000  21.00000    230.000000   \n",
       "max    749795.00000  322000.000000    280.000000  26.00000    257.000000   \n",
       "\n",
       "       Brændstoftype  Gearkasse_Automatis  Gearkasse_Manue  cluster_group  \n",
       "count      80.000000            80.000000        80.000000      80.000000  \n",
       "mean        0.362500             0.375000         0.625000       0.312500  \n",
       "std         0.483755             0.487177         0.487177       0.492828  \n",
       "min         0.000000             0.000000         0.000000       0.000000  \n",
       "25%         0.000000             0.000000         0.000000       0.000000  \n",
       "50%         0.000000             0.000000         1.000000       0.000000  \n",
       "75%         1.000000             1.000000         1.000000       1.000000  \n",
       "max         1.000000             1.000000         1.000000       2.000000  "
      ]
     },
     "execution_count": 13,
     "metadata": {},
     "output_type": "execute_result"
    }
   ],
   "source": [
    "cluster.describe()\n",
    "#cluster['price'].unique()"
   ]
  },
  {
   "cell_type": "code",
   "execution_count": 14,
   "metadata": {},
   "outputs": [
    {
     "data": {
      "text/html": [
       "<div>\n",
       "<style scoped>\n",
       "    .dataframe tbody tr th:only-of-type {\n",
       "        vertical-align: middle;\n",
       "    }\n",
       "\n",
       "    .dataframe tbody tr th {\n",
       "        vertical-align: top;\n",
       "    }\n",
       "\n",
       "    .dataframe thead th {\n",
       "        text-align: right;\n",
       "    }\n",
       "</style>\n",
       "<table border=\"1\" class=\"dataframe\">\n",
       "  <thead>\n",
       "    <tr style=\"text-align: right;\">\n",
       "      <th></th>\n",
       "      <th>price</th>\n",
       "      <th>Kilometer</th>\n",
       "      <th>Hestekræfter</th>\n",
       "      <th>Km/l</th>\n",
       "      <th>Tophastighed</th>\n",
       "      <th>Brændstoftype</th>\n",
       "      <th>Gearkasse_Automatis</th>\n",
       "      <th>Gearkasse_Manue</th>\n",
       "      <th>Counts</th>\n",
       "    </tr>\n",
       "    <tr>\n",
       "      <th>cluster_group</th>\n",
       "      <th></th>\n",
       "      <th></th>\n",
       "      <th></th>\n",
       "      <th></th>\n",
       "      <th></th>\n",
       "      <th></th>\n",
       "      <th></th>\n",
       "      <th></th>\n",
       "      <th></th>\n",
       "    </tr>\n",
       "  </thead>\n",
       "  <tbody>\n",
       "    <tr>\n",
       "      <th>0.0</th>\n",
       "      <td>111169.428571</td>\n",
       "      <td>136685.714286</td>\n",
       "      <td>163.482143</td>\n",
       "      <td>16.607143</td>\n",
       "      <td>213.821429</td>\n",
       "      <td>0.339286</td>\n",
       "      <td>0.125000</td>\n",
       "      <td>0.875000</td>\n",
       "      <td>56</td>\n",
       "    </tr>\n",
       "    <tr>\n",
       "      <th>1.0</th>\n",
       "      <td>422795.000000</td>\n",
       "      <td>30508.695652</td>\n",
       "      <td>203.478261</td>\n",
       "      <td>18.956522</td>\n",
       "      <td>226.086957</td>\n",
       "      <td>0.434783</td>\n",
       "      <td>0.956522</td>\n",
       "      <td>0.043478</td>\n",
       "      <td>23</td>\n",
       "    </tr>\n",
       "    <tr>\n",
       "      <th>2.0</th>\n",
       "      <td>749795.000000</td>\n",
       "      <td>25.000000</td>\n",
       "      <td>280.000000</td>\n",
       "      <td>16.000000</td>\n",
       "      <td>230.000000</td>\n",
       "      <td>0.000000</td>\n",
       "      <td>1.000000</td>\n",
       "      <td>0.000000</td>\n",
       "      <td>1</td>\n",
       "    </tr>\n",
       "  </tbody>\n",
       "</table>\n",
       "</div>"
      ],
      "text/plain": [
       "                       price      Kilometer  Hestekræfter       Km/l  \\\n",
       "cluster_group                                                          \n",
       "0.0            111169.428571  136685.714286    163.482143  16.607143   \n",
       "1.0            422795.000000   30508.695652    203.478261  18.956522   \n",
       "2.0            749795.000000      25.000000    280.000000  16.000000   \n",
       "\n",
       "               Tophastighed  Brændstoftype  Gearkasse_Automatis  \\\n",
       "cluster_group                                                     \n",
       "0.0              213.821429       0.339286             0.125000   \n",
       "1.0              226.086957       0.434783             0.956522   \n",
       "2.0              230.000000       0.000000             1.000000   \n",
       "\n",
       "               Gearkasse_Manue  Counts  \n",
       "cluster_group                           \n",
       "0.0                   0.875000      56  \n",
       "1.0                   0.043478      23  \n",
       "2.0                   0.000000       1  "
      ]
     },
     "execution_count": 14,
     "metadata": {},
     "output_type": "execute_result"
    }
   ],
   "source": [
    "#Grouping cars by Cluster\n",
    "cluster_cluster_data = cluster.groupby(['cluster_group']).mean()\n",
    "#Count of cars in each cluster\n",
    "cluster_cluster_data['Counts'] = pd.Series(cluster.groupby(['cluster_group']).size())\n",
    "cluster_cluster_data"
   ]
  },
  {
   "cell_type": "markdown",
   "metadata": {},
   "source": [
    "## Conclusion (Citroen)\n",
    "- Cluster 0\n",
    "  - Have 865 cars\n",
    "  - The average priec is closs to `80.000 kr.` \n",
    "  - Milliage to be expected is 128.000 kilometer(medium to heigh) which could mean heigher cost of maintenance. \n",
    "  - They have low amount of hp(hosepower).\n",
    "  - They are considered to have a low fuel consumtion. => 23 km/l  \n",
    "  - It's most likely to be a manual gearbox \n",
    "  - Its 50/50 if the cars will be runing on petrol or Diesel as fueltype  \n",
    "  sumup: medium->low price, low hp, good fuel consumtion, mostly manual gear box \n",
    "  \n",
    "- Cluster 1\n",
    "  - Have 82 cars\n",
    "  - The average priec is closs to `275.000 kr.` \n",
    "  - Milliage to be expected is 19.000 kilometer(low->very low) which means its unlikely to get unforseen maintenance. \n",
    "  - They have avage amount of hp(hosepower).\n",
    "  - They are considered to have a very low fuel consumtion. => 27 km/l   \n",
    "  - Its 2/3 of the cars will be running on Diesel as fueltype  \n",
    "  sumup: medium->heigh price, average hp, very good fuel consumtion``  \n"
   ]
  },
  {
   "cell_type": "markdown",
   "metadata": {},
   "source": [
    "## lets make a decission tree to look at what fuel we may end up with"
   ]
  },
  {
   "cell_type": "code",
   "execution_count": 15,
   "metadata": {},
   "outputs": [
    {
     "data": {
      "text/html": [
       "<div>\n",
       "<style scoped>\n",
       "    .dataframe tbody tr th:only-of-type {\n",
       "        vertical-align: middle;\n",
       "    }\n",
       "\n",
       "    .dataframe tbody tr th {\n",
       "        vertical-align: top;\n",
       "    }\n",
       "\n",
       "    .dataframe thead th {\n",
       "        text-align: right;\n",
       "    }\n",
       "</style>\n",
       "<table border=\"1\" class=\"dataframe\">\n",
       "  <thead>\n",
       "    <tr style=\"text-align: right;\">\n",
       "      <th></th>\n",
       "      <th>Kilometer</th>\n",
       "      <th>Hestekræfter</th>\n",
       "      <th>Km/l</th>\n",
       "      <th>Tophastighed</th>\n",
       "      <th>Brændstoftype</th>\n",
       "      <th>Gearkasse_Automatis</th>\n",
       "      <th>Gearkasse_Manue</th>\n",
       "      <th>cluster_group</th>\n",
       "    </tr>\n",
       "  </thead>\n",
       "  <tbody>\n",
       "    <tr>\n",
       "      <th>0</th>\n",
       "      <td>41000</td>\n",
       "      <td>150.0</td>\n",
       "      <td>18.0</td>\n",
       "      <td>210.0</td>\n",
       "      <td>0</td>\n",
       "      <td>0</td>\n",
       "      <td>1</td>\n",
       "      <td>0.0</td>\n",
       "    </tr>\n",
       "    <tr>\n",
       "      <th>1</th>\n",
       "      <td>120000</td>\n",
       "      <td>170.0</td>\n",
       "      <td>17.0</td>\n",
       "      <td>219.0</td>\n",
       "      <td>0</td>\n",
       "      <td>0</td>\n",
       "      <td>1</td>\n",
       "      <td>0.0</td>\n",
       "    </tr>\n",
       "    <tr>\n",
       "      <th>4</th>\n",
       "      <td>6000</td>\n",
       "      <td>190.0</td>\n",
       "      <td>21.0</td>\n",
       "      <td>210.0</td>\n",
       "      <td>1</td>\n",
       "      <td>1</td>\n",
       "      <td>0</td>\n",
       "      <td>1.0</td>\n",
       "    </tr>\n",
       "    <tr>\n",
       "      <th>5</th>\n",
       "      <td>233000</td>\n",
       "      <td>165.0</td>\n",
       "      <td>12.0</td>\n",
       "      <td>216.0</td>\n",
       "      <td>0</td>\n",
       "      <td>0</td>\n",
       "      <td>1</td>\n",
       "      <td>0.0</td>\n",
       "    </tr>\n",
       "    <tr>\n",
       "      <th>6</th>\n",
       "      <td>209000</td>\n",
       "      <td>192.0</td>\n",
       "      <td>9.0</td>\n",
       "      <td>225.0</td>\n",
       "      <td>0</td>\n",
       "      <td>0</td>\n",
       "      <td>1</td>\n",
       "      <td>0.0</td>\n",
       "    </tr>\n",
       "  </tbody>\n",
       "</table>\n",
       "</div>"
      ],
      "text/plain": [
       "   Kilometer  Hestekræfter  Km/l  Tophastighed  Brændstoftype  \\\n",
       "0      41000         150.0  18.0         210.0              0   \n",
       "1     120000         170.0  17.0         219.0              0   \n",
       "4       6000         190.0  21.0         210.0              1   \n",
       "5     233000         165.0  12.0         216.0              0   \n",
       "6     209000         192.0   9.0         225.0              0   \n",
       "\n",
       "   Gearkasse_Automatis  Gearkasse_Manue  cluster_group  \n",
       "0                    0                1            0.0  \n",
       "1                    0                1            0.0  \n",
       "4                    1                0            1.0  \n",
       "5                    0                1            0.0  \n",
       "6                    0                1            0.0  "
      ]
     },
     "execution_count": 15,
     "metadata": {},
     "output_type": "execute_result"
    }
   ],
   "source": [
    "Decission_tree_df = cluster.drop('price', axis=1).copy()\n",
    "#Decission_tree_df = pd.read_csv('alfa-romeo May 30, 2021.csv')\n",
    "Decission_tree_df.head()"
   ]
  },
  {
   "cell_type": "code",
   "execution_count": 16,
   "metadata": {},
   "outputs": [
    {
     "data": {
      "text/plain": [
       "array([1, 0], dtype=uint8)"
      ]
     },
     "execution_count": 16,
     "metadata": {},
     "output_type": "execute_result"
    }
   ],
   "source": [
    "Decission_tree_df.dtypes \n",
    "Decission_tree_df['Gearkasse_Manue'].unique()"
   ]
  },
  {
   "cell_type": "code",
   "execution_count": 17,
   "metadata": {},
   "outputs": [
    {
     "data": {
      "text/html": [
       "<div>\n",
       "<style scoped>\n",
       "    .dataframe tbody tr th:only-of-type {\n",
       "        vertical-align: middle;\n",
       "    }\n",
       "\n",
       "    .dataframe tbody tr th {\n",
       "        vertical-align: top;\n",
       "    }\n",
       "\n",
       "    .dataframe thead th {\n",
       "        text-align: right;\n",
       "    }\n",
       "</style>\n",
       "<table border=\"1\" class=\"dataframe\">\n",
       "  <thead>\n",
       "    <tr style=\"text-align: right;\">\n",
       "      <th></th>\n",
       "      <th>Kilometer</th>\n",
       "      <th>Hestekræfter</th>\n",
       "      <th>Km/l</th>\n",
       "      <th>Tophastighed</th>\n",
       "      <th>Gearkasse_Automatis</th>\n",
       "      <th>Gearkasse_Manue</th>\n",
       "      <th>cluster_group</th>\n",
       "    </tr>\n",
       "  </thead>\n",
       "  <tbody>\n",
       "    <tr>\n",
       "      <th>0</th>\n",
       "      <td>41000</td>\n",
       "      <td>150.0</td>\n",
       "      <td>18.0</td>\n",
       "      <td>210.0</td>\n",
       "      <td>0</td>\n",
       "      <td>1</td>\n",
       "      <td>0.0</td>\n",
       "    </tr>\n",
       "    <tr>\n",
       "      <th>1</th>\n",
       "      <td>120000</td>\n",
       "      <td>170.0</td>\n",
       "      <td>17.0</td>\n",
       "      <td>219.0</td>\n",
       "      <td>0</td>\n",
       "      <td>1</td>\n",
       "      <td>0.0</td>\n",
       "    </tr>\n",
       "    <tr>\n",
       "      <th>4</th>\n",
       "      <td>6000</td>\n",
       "      <td>190.0</td>\n",
       "      <td>21.0</td>\n",
       "      <td>210.0</td>\n",
       "      <td>1</td>\n",
       "      <td>0</td>\n",
       "      <td>1.0</td>\n",
       "    </tr>\n",
       "    <tr>\n",
       "      <th>5</th>\n",
       "      <td>233000</td>\n",
       "      <td>165.0</td>\n",
       "      <td>12.0</td>\n",
       "      <td>216.0</td>\n",
       "      <td>0</td>\n",
       "      <td>1</td>\n",
       "      <td>0.0</td>\n",
       "    </tr>\n",
       "    <tr>\n",
       "      <th>6</th>\n",
       "      <td>209000</td>\n",
       "      <td>192.0</td>\n",
       "      <td>9.0</td>\n",
       "      <td>225.0</td>\n",
       "      <td>0</td>\n",
       "      <td>1</td>\n",
       "      <td>0.0</td>\n",
       "    </tr>\n",
       "  </tbody>\n",
       "</table>\n",
       "</div>"
      ],
      "text/plain": [
       "   Kilometer  Hestekræfter  Km/l  Tophastighed  Gearkasse_Automatis  \\\n",
       "0      41000         150.0  18.0         210.0                    0   \n",
       "1     120000         170.0  17.0         219.0                    0   \n",
       "4       6000         190.0  21.0         210.0                    1   \n",
       "5     233000         165.0  12.0         216.0                    0   \n",
       "6     209000         192.0   9.0         225.0                    0   \n",
       "\n",
       "   Gearkasse_Manue  cluster_group  \n",
       "0                1            0.0  \n",
       "1                1            0.0  \n",
       "4                0            1.0  \n",
       "5                1            0.0  \n",
       "6                1            0.0  "
      ]
     },
     "execution_count": 17,
     "metadata": {},
     "output_type": "execute_result"
    }
   ],
   "source": [
    "# Make a new copy of the columns to predictions\n",
    "X = Decission_tree_df.drop('Brændstoftype', axis=1).copy() #all columns but Brændstoftype\n",
    "X.head()"
   ]
  },
  {
   "cell_type": "code",
   "execution_count": 18,
   "metadata": {},
   "outputs": [
    {
     "data": {
      "text/plain": [
       "0    0\n",
       "1    0\n",
       "4    1\n",
       "5    0\n",
       "6    0\n",
       "Name: Brændstoftype, dtype: int64"
      ]
     },
     "execution_count": 18,
     "metadata": {},
     "output_type": "execute_result"
    }
   ],
   "source": [
    "y = Decission_tree_df['Brændstoftype'].copy()\n",
    "y.head()"
   ]
  },
  {
   "cell_type": "code",
   "execution_count": 19,
   "metadata": {},
   "outputs": [
    {
     "data": {
      "text/plain": [
       "Kilometer                int64\n",
       "Hestekræfter           float64\n",
       "Km/l                   float64\n",
       "Tophastighed           float64\n",
       "Gearkasse_Automatis      uint8\n",
       "Gearkasse_Manue          uint8\n",
       "cluster_group          float64\n",
       "dtype: object"
      ]
     },
     "execution_count": 19,
     "metadata": {},
     "output_type": "execute_result"
    }
   ],
   "source": [
    "X.dtypes"
   ]
  },
  {
   "cell_type": "code",
   "execution_count": 20,
   "metadata": {},
   "outputs": [],
   "source": [
    "#pd.get_dummies(X, columns=['Brændstoftype']).head()  # if more than 2 types of fuel in df\n"
   ]
  },
  {
   "cell_type": "code",
   "execution_count": 21,
   "metadata": {},
   "outputs": [
    {
     "data": {
      "text/plain": [
       "array([0, 1])"
      ]
     },
     "execution_count": 21,
     "metadata": {},
     "output_type": "execute_result"
    }
   ],
   "source": [
    "#if y contains more than 2 values \n",
    "y_not_zero_index = y > 0 # get the index for each non-zero value in y\n",
    "y[y_not_zero_index] = 1 # set eacg non-zero value in y to 1\n",
    "y.unique()\n"
   ]
  },
  {
   "cell_type": "code",
   "execution_count": 22,
   "metadata": {},
   "outputs": [],
   "source": [
    "# split data to train and testing sets\n",
    "X_train, X_test, y_train, y_test = train_test_split(X, y, random_state = 42) \n",
    "\n",
    "# crate a decission tree and fit i with traning data\n",
    "clf_dt = DecisionTreeClassifier(random_state = 42)\n",
    "clf_dt = clf_dt.fit(X_train, y_train)"
   ]
  },
  {
   "cell_type": "code",
   "execution_count": 23,
   "metadata": {},
   "outputs": [
    {
     "data": {
      "image/png": "[encoded data removed]",
      "text/plain": [
       "<Figure size 1080x540 with 1 Axes>"
      ]
     },
     "metadata": {
      "needs_background": "light"
     },
     "output_type": "display_data"
    }
   ],
   "source": [
    "plt.figure(figsize=(15,7.5))\n",
    "plot_tree(clf_dt,\n",
    "         filled=True,\n",
    "         rounded=True,\n",
    "         class_names=['Diesel', 'Petrol'],\n",
    "         feature_names=X.columns);"
   ]
  },
  {
   "cell_type": "code",
   "execution_count": 24,
   "metadata": {},
   "outputs": [
    {
     "data": {
      "text/plain": [
       "<sklearn.metrics._plot.confusion_matrix.ConfusionMatrixDisplay at 0x7fabe9588290>"
      ]
     },
     "execution_count": 24,
     "metadata": {},
     "output_type": "execute_result"
    },
    {
     "data": {
      "image/png": "[encoded data removed]",
      "text/plain": [
       "<Figure size 432x288 with 2 Axes>"
      ]
     },
     "metadata": {
      "needs_background": "light"
     },
     "output_type": "display_data"
    }
   ],
   "source": [
    "#confusion matrix:\n",
    "#A confusion matrix is a summary of prediction results on a classification problem.\n",
    "#The number of correct and incorrect predictions are summarized with count values and broken down by each class.\n",
    "plot_confusion_matrix(clf_dt, X_test , y_test, display_labels = ['Diesel', 'Petrol'], values_format='')"
   ]
  },
  {
   "cell_type": "code",
   "execution_count": 25,
   "metadata": {},
   "outputs": [],
   "source": [
    "path = clf_dt.cost_complexity_pruning_path(X_train, y_train) # determine values for alpha\n",
    "ccp_alphas = path.ccp_alphas # extract different values for alpha\n",
    "ccp_alphas = ccp_alphas[:-1] # sxclude the maximum value for alpha\n",
    "\n",
    "clf_dts = [] # list for decision trees\n",
    "## one decision tree per value for alpha and store it in the list\n",
    "for ccp_alpha in ccp_alphas:\n",
    "    clf_dt = DecisionTreeClassifier(random_state=0, ccp_alpha = ccp_alpha)\n",
    "    clf_dt.fit(X_train, y_train)\n",
    "    clf_dts.append(clf_dt)"
   ]
  },
  {
   "cell_type": "code",
   "execution_count": 26,
   "metadata": {},
   "outputs": [
    {
     "data": {
      "image/png": "[encoded data removed]",
      "text/plain": [
       "<Figure size 432x288 with 1 Axes>"
      ]
     },
     "metadata": {
      "needs_background": "light"
     },
     "output_type": "display_data"
    }
   ],
   "source": [
    "# make a graf for accuracy vs alpha for traing and testing\n",
    "train_scores = [clf_dt.score(X_train, y_train) for clf_dt in clf_dts]\n",
    "test_scores = [clf_dt.score(X_test, y_test) for clf_dt in clf_dts]\n",
    "\n",
    "fig, ax = plt.subplots()\n",
    "ax.set_xlabel('alpha')\n",
    "ax.set_ylabel('Accuracy')\n",
    "ax.set_title('Acurracy vs alpha for traning and test sets')\n",
    "ax.plot(ccp_alphas, train_scores, marker='o', label='train', drawstyle='steps-post')\n",
    "ax.plot(ccp_alphas, test_scores, marker='o', label='test', drawstyle='steps-post')\n",
    "ax.legend() # \n",
    "plt.show()"
   ]
  },
  {
   "cell_type": "markdown",
   "metadata": {},
   "source": [
    "best value is around 0,05 (eyeballing it)"
   ]
  },
  {
   "cell_type": "code",
   "execution_count": 27,
   "metadata": {},
   "outputs": [
    {
     "data": {
      "text/plain": [
       "<matplotlib.axes._subplots.AxesSubplot at 0x7fabe9f21d90>"
      ]
     },
     "execution_count": 27,
     "metadata": {},
     "output_type": "execute_result"
    },
    {
     "data": {
      "image/png": "[encoded data removed]",
      "text/plain": [
       "<Figure size 432x288 with 1 Axes>"
      ]
     },
     "metadata": {
      "needs_background": "light"
     },
     "output_type": "display_data"
    }
   ],
   "source": [
    "clf_dt = DecisionTreeClassifier(random_state=42, ccp_alpha=0.05)\n",
    "# 7 fold cross validation creates 7 different training and testing datasets that used to train and test the tree\n",
    "scores= cross_val_score(clf_dt, X_train, y_train, cv=5)\n",
    "Decission_tree_df = pd.DataFrame(data={'tree': range(5), 'accuracy': scores})\n",
    "\n",
    "Decission_tree_df.plot(x='tree', y='accuracy', marker='o', linestyle='--')"
   ]
  },
  {
   "cell_type": "code",
   "execution_count": 28,
   "metadata": {},
   "outputs": [
    {
     "data": {
      "text/plain": [
       "<matplotlib.axes._subplots.AxesSubplot at 0x7fabe9728ed0>"
      ]
     },
     "execution_count": 28,
     "metadata": {},
     "output_type": "execute_result"
    },
    {
     "data": {
      "image/png": "[encoded data removed]",
      "text/plain": [
       "<Figure size 432x288 with 1 Axes>"
      ]
     },
     "metadata": {
      "needs_background": "light"
     },
     "output_type": "display_data"
    }
   ],
   "source": [
    "alpha_loop_values = []\n",
    "# pr value run 5 fold cross validation\n",
    "for ccp_alpha in ccp_alphas:\n",
    "    clf_dt = DecisionTreeClassifier(random_state=0, ccp_alpha = ccp_alpha)\n",
    "    scores = cross_val_score(clf_dt, X_train, y_train, cv= 5)\n",
    "    alpha_loop_values.append([ccp_alpha, np.mean(scores), np.std(scores)])    \n",
    "\n",
    "# draw a graf \n",
    "alpha_results = pd.DataFrame(alpha_loop_values, columns= ['alpha', 'mean_accuracy', 'std'])\n",
    "\n",
    "alpha_results.plot(x='alpha', y='mean_accuracy', yerr = 'std', marker='o', linestyle='--')"
   ]
  },
  {
   "cell_type": "markdown",
   "metadata": {},
   "source": [
    "here its show that 0.03 has a better acurracy"
   ]
  },
  {
   "cell_type": "code",
   "execution_count": 29,
   "metadata": {},
   "outputs": [
    {
     "data": {
      "text/html": [
       "<div>\n",
       "<style scoped>\n",
       "    .dataframe tbody tr th:only-of-type {\n",
       "        vertical-align: middle;\n",
       "    }\n",
       "\n",
       "    .dataframe tbody tr th {\n",
       "        vertical-align: top;\n",
       "    }\n",
       "\n",
       "    .dataframe thead th {\n",
       "        text-align: right;\n",
       "    }\n",
       "</style>\n",
       "<table border=\"1\" class=\"dataframe\">\n",
       "  <thead>\n",
       "    <tr style=\"text-align: right;\">\n",
       "      <th></th>\n",
       "      <th>alpha</th>\n",
       "      <th>mean_accuracy</th>\n",
       "      <th>std</th>\n",
       "    </tr>\n",
       "  </thead>\n",
       "  <tbody>\n",
       "  </tbody>\n",
       "</table>\n",
       "</div>"
      ],
      "text/plain": [
       "Empty DataFrame\n",
       "Columns: [alpha, mean_accuracy, std]\n",
       "Index: []"
      ]
     },
     "execution_count": 29,
     "metadata": {},
     "output_type": "execute_result"
    }
   ],
   "source": [
    "alpha_results[(alpha_results['alpha'] > 0.0054) & (alpha_results['alpha'] < 0.007)]"
   ]
  },
  {
   "cell_type": "code",
   "execution_count": 30,
   "metadata": {},
   "outputs": [
    {
     "data": {
      "text/html": [
       "<div>\n",
       "<style scoped>\n",
       "    .dataframe tbody tr th:only-of-type {\n",
       "        vertical-align: middle;\n",
       "    }\n",
       "\n",
       "    .dataframe tbody tr th {\n",
       "        vertical-align: top;\n",
       "    }\n",
       "\n",
       "    .dataframe thead th {\n",
       "        text-align: right;\n",
       "    }\n",
       "</style>\n",
       "<table border=\"1\" class=\"dataframe\">\n",
       "  <thead>\n",
       "    <tr style=\"text-align: right;\">\n",
       "      <th></th>\n",
       "      <th>alpha</th>\n",
       "      <th>mean_accuracy</th>\n",
       "      <th>std</th>\n",
       "    </tr>\n",
       "  </thead>\n",
       "  <tbody>\n",
       "  </tbody>\n",
       "</table>\n",
       "</div>"
      ],
      "text/plain": [
       "Empty DataFrame\n",
       "Columns: [alpha, mean_accuracy, std]\n",
       "Index: []"
      ]
     },
     "execution_count": 30,
     "metadata": {},
     "output_type": "execute_result"
    }
   ],
   "source": [
    "ideal_ccp_alpha = alpha_results[(alpha_results['alpha'] > 0.0054) & (alpha_results['alpha'] < 0.007)] \n",
    "ideal_ccp_alpha"
   ]
  },
  {
   "cell_type": "code",
   "execution_count": 31,
   "metadata": {},
   "outputs": [],
   "source": [
    "ideal = float(0.005487)"
   ]
  },
  {
   "cell_type": "code",
   "execution_count": 32,
   "metadata": {},
   "outputs": [],
   "source": [
    "clf_dt_pruned = DecisionTreeClassifier(random_state = 42, ccp_alpha= ideal)\n",
    "clf_dt_pruned = clf_dt_pruned.fit(X_train, y_train)"
   ]
  },
  {
   "cell_type": "code",
   "execution_count": 33,
   "metadata": {},
   "outputs": [
    {
     "data": {
      "text/plain": [
       "<sklearn.metrics._plot.confusion_matrix.ConfusionMatrixDisplay at 0x7fabe972d110>"
      ]
     },
     "execution_count": 33,
     "metadata": {},
     "output_type": "execute_result"
    },
    {
     "data": {
      "image/png": "[encoded data removed]",
      "text/plain": [
       "<Figure size 432x288 with 2 Axes>"
      ]
     },
     "metadata": {
      "needs_background": "light"
     },
     "output_type": "display_data"
    }
   ],
   "source": [
    "plot_confusion_matrix(clf_dt_pruned, X_test, y_test, display_labels=['Diesel', 'petrol'],values_format='')"
   ]
  },
  {
   "cell_type": "code",
   "execution_count": 34,
   "metadata": {},
   "outputs": [
    {
     "data": {
      "image/png": "[encoded data removed]",
      "text/plain": [
       "<Figure size 1080x540 with 1 Axes>"
      ]
     },
     "metadata": {
      "needs_background": "light"
     },
     "output_type": "display_data"
    }
   ],
   "source": [
    "plt.figure(figsize=(15, 7.5))\n",
    "plot_tree(clf_dt_pruned,\n",
    "         filled = True,\n",
    "         rounded= True,\n",
    "         class_names=['uses petrol', 'uses Diesel'],\n",
    "         feature_names=X.columns);"
   ]
  },
  {
   "cell_type": "code",
   "execution_count": null,
   "metadata": {},
   "outputs": [],
   "source": []
  },
  {
   "cell_type": "code",
   "execution_count": null,
   "metadata": {},
   "outputs": [],
   "source": []
  }
 ],
 "metadata": {
  "kernelspec": {
   "display_name": "Python 3",
   "language": "python",
   "name": "python3"
  },
  "language_info": {
   "codemirror_mode": {
    "name": "ipython",
    "version": 3
   },
   "file_extension": ".py",
   "mimetype": "text/x-python",
   "name": "python",
   "nbconvert_exporter": "python",
   "pygments_lexer": "ipython3",
   "version": "3.7.6"
  }
 },
 "nbformat": 4,
 "nbformat_minor": 4
}
